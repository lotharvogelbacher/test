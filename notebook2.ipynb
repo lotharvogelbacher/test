{
 "cells": [
  {
   "cell_type": "code",
   "execution_count": 4,
   "id": "outside-reynolds",
   "metadata": {
    "id": "47a48c07-39fe-44c8-aa02-f42b5dd07049",
    "tags": []
   },
   "outputs": [
    {
     "name": "stdout",
     "output_type": "stream",
     "text": [
      "hello world\n"
     ]
    }
   ],
   "source": [
    "print('hello world')"
   ]
  },
  {
   "cell_type": "code",
   "execution_count": null,
   "id": "elder-recruitment",
   "metadata": {
    "id": "832208c6-aed1-4af6-ba43-237366bceff8"
   },
   "outputs": [],
   "source": []
  }
 ],
 "metadata": {
  "kernelspec": {
   "display_name": "Python 3.9",
   "language": "python",
   "name": "python3"
  },
  "language_info": {
   "codemirror_mode": {
    "name": "ipython",
    "version": 3
   },
   "file_extension": ".py",
   "mimetype": "text/x-python",
   "name": "python",
   "nbconvert_exporter": "python",
   "pygments_lexer": "ipython3",
   "version": "3.9.7"
  }
 },
 "nbformat": 4,
 "nbformat_minor": 5
}
