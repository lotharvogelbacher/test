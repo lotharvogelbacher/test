{
 "cells": [
  {
   "cell_type": "code",
   "execution_count": 1,
   "id": "solid-error",
   "metadata": {
    "id": "464f7dc6-6823-4dd7-b5d4-4ff5f1f77191",
    "tags": []
   },
   "outputs": [
    {
     "name": "stdout",
     "output_type": "stream",
     "text": [
      "hello world\n"
     ]
    }
   ],
   "source": [
    "print('hello world')"
   ]
  },
  {
   "cell_type": "code",
   "execution_count": 1,
   "id": "different-belfast",
   "metadata": {
    "id": "2e5927bc-8c33-43a2-a02e-cbabda7c9e66",
    "tags": []
   },
   "outputs": [
    {
     "name": "stdout",
     "output_type": "stream",
     "text": [
      "this was changed by a collaborator\n"
     ]
    }
   ],
   "source": [
    "print(\"this was changed by a collaborator\")"
   ]
  },
  {
   "cell_type": "code",
   "execution_count": null,
   "id": "young-insider",
   "metadata": {
    "id": "fb3da08e-f8fb-467a-9636-525a0a8510aa"
   },
   "outputs": [],
   "source": []
  }
 ],
 "metadata": {
  "kernelspec": {
   "display_name": "Python 3.9",
   "language": "python",
   "name": "python3"
  },
  "language_info": {
   "codemirror_mode": {
    "name": "ipython",
    "version": 3
   },
   "file_extension": ".py",
   "mimetype": "text/x-python",
   "name": "python",
   "nbconvert_exporter": "python",
   "pygments_lexer": "ipython3",
   "version": "3.9.7"
  }
 },
 "nbformat": 4,
 "nbformat_minor": 5
}
